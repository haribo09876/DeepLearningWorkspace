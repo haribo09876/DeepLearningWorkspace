{
 "cells": [
  {
   "cell_type": "markdown",
   "metadata": {},
   "source": [
    "# 1. Creation Network Practice (생성 네트워크 실습)\n",
    "- 생성하고 싶은 숫자 번호를 입력하면 MNIST와 유사한 숫자 이미지를 출력하는 네트워크 모델을 만드는 실습을 진행"
   ]
  },
  {
   "cell_type": "code",
   "execution_count": 1,
   "metadata": {},
   "outputs": [],
   "source": [
    "import pandas as pd\n",
    "import numpy as np\n",
    "data = pd.read_csv(\"mnist_train_small.csv\", header=None)\n",
    "data = np.array(data)"
   ]
  },
  {
   "cell_type": "code",
   "execution_count": 2,
   "metadata": {},
   "outputs": [],
   "source": [
    "# 분류 네트워크와는 다르게 분류 정보가 입력, 이미지 데이터가 출력\n",
    "# n(데이터 개수) * 784의 2차원으로 저장되어 있는 이미지 데이터는 n * 28 * 28의 3차원 배열로 변환하여 저장\n",
    "y_train = data[:, 1:]\n",
    "X_train = data[:, 0]\n",
    "y_train = y_train.reshape(-1, 28, 28)"
   ]
  },
  {
   "cell_type": "code",
   "execution_count": 3,
   "metadata": {},
   "outputs": [
    {
     "data": {
      "text/plain": [
       "5"
      ]
     },
     "execution_count": 3,
     "metadata": {},
     "output_type": "execute_result"
    },
    {
     "data": {
      "image/png": "[encoded data removed]",
      "text/plain": [
       "<Figure size 640x480 with 1 Axes>"
      ]
     },
     "metadata": {},
     "output_type": "display_data"
    }
   ],
   "source": [
    "# 2차원 배열을 그림으로 보여줌\n",
    "import matplotlib.pyplot as plt\n",
    "plt.imshow(y_train[1, :, :])\n",
    "X_train[1]"
   ]
  },
  {
   "cell_type": "code",
   "execution_count": 4,
   "metadata": {},
   "outputs": [],
   "source": [
    "# to_categorical 함수를 사용하여 원-핫-인코딩 수행\n",
    "# 출력 데이터는 0부터 1사이의 값으로 정규화\n",
    "import tensorflow.keras as keras\n",
    "\n",
    "X_train = keras.utils.to_categorical(X_train)\n",
    "y_train = y_train / 255"
   ]
  },
  {
   "cell_type": "code",
   "execution_count": 5,
   "metadata": {},
   "outputs": [
    {
     "name": "stdout",
     "output_type": "stream",
     "text": [
      "WARNING:tensorflow:From c:\\Python311\\Lib\\site-packages\\keras\\src\\backend.py:873: The name tf.get_default_graph is deprecated. Please use tf.compat.v1.get_default_graph instead.\n",
      "\n"
     ]
    }
   ],
   "source": [
    "# 네트워크 구성\n",
    "from keras.models import Sequential\n",
    "from keras import layers\n",
    "from keras import optimizers\n",
    "\n",
    "# 입력\n",
    "model=Sequential()\n",
    "# 완전 연결층 node=3136\n",
    "model.add(layers.Dense(units=3136, input_shape=(10, ), activation=\"relu\"))\n",
    "# Reshape층 7 * 7 * n\n",
    "model.add(layers.Reshape((7, 7, 64)))\n",
    "# UpSampling층 stride=2\n",
    "model.add(layers.UpSampling2D((2, 2)))\n",
    "# 합성곱층 kernel=3, filter=16\n",
    "model.add(layers.Conv2D(filters=16, kernel_size=3, padding=\"same\", activation=\"relu\"))\n",
    "# UpSampling층 stride=2\n",
    "model.add(layers.UpSampling2D((2, 2)))\n",
    "# 합성곱층 kernel=3, filter=32\n",
    "model.add(layers.Conv2D(filters=32, kernel_size=3, padding=\"same\", activation=\"relu\"))\n",
    "# 합성곱층 kernel=3, filter=1\n",
    "model.add(layers.Conv2D(filters=1, kernel_size=3, padding=\"same\", activation=\"sigmoid\"))\n",
    "model.compile(loss=\"mean_squared_error\", optimizer=optimizers.RMSprop(learning_rate=0.001), metrics=[\"accuracy\"])"
   ]
  },
  {
   "cell_type": "code",
   "execution_count": 6,
   "metadata": {},
   "outputs": [
    {
     "name": "stdout",
     "output_type": "stream",
     "text": [
      "Model: \"sequential\"\n",
      "_________________________________________________________________\n",
      " Layer (type)                Output Shape              Param #   \n",
      "=================================================================\n",
      " dense (Dense)               (None, 3136)              34496     \n",
      "                                                                 \n",
      " reshape (Reshape)           (None, 7, 7, 64)          0         \n",
      "                                                                 \n",
      " up_sampling2d (UpSampling2  (None, 14, 14, 64)        0         \n",
      " D)                                                              \n",
      "                                                                 \n",
      " conv2d (Conv2D)             (None, 14, 14, 16)        9232      \n",
      "                                                                 \n",
      " up_sampling2d_1 (UpSamplin  (None, 28, 28, 16)        0         \n",
      " g2D)                                                            \n",
      "                                                                 \n",
      " conv2d_1 (Conv2D)           (None, 28, 28, 32)        4640      \n",
      "                                                                 \n",
      " conv2d_2 (Conv2D)           (None, 28, 28, 1)         289       \n",
      "                                                                 \n",
      "=================================================================\n",
      "Total params: 48657 (190.07 KB)\n",
      "Trainable params: 48657 (190.07 KB)\n",
      "Non-trainable params: 0 (0.00 Byte)\n",
      "_________________________________________________________________\n"
     ]
    }
   ],
   "source": [
    "# 위에서 구성한 네트워크 구조를 확인할 수 있음\n",
    "model.build()\n",
    "model.summary()"
   ]
  },
  {
   "cell_type": "code",
   "execution_count": 7,
   "metadata": {},
   "outputs": [
    {
     "name": "stdout",
     "output_type": "stream",
     "text": [
      "Epoch 1/10\n",
      "WARNING:tensorflow:From c:\\Python311\\Lib\\site-packages\\keras\\src\\utils\\tf_utils.py:492: The name tf.ragged.RaggedTensorValue is deprecated. Please use tf.compat.v1.ragged.RaggedTensorValue instead.\n",
      "\n",
      "WARNING:tensorflow:From c:\\Python311\\Lib\\site-packages\\keras\\src\\engine\\base_layer_utils.py:384: The name tf.executing_eagerly_outside_functions is deprecated. Please use tf.compat.v1.executing_eagerly_outside_functions instead.\n",
      "\n",
      "219/219 [==============================] - 6s 24ms/step - loss: 0.0636 - accuracy: 0.7964 - val_loss: 0.0549 - val_accuracy: 0.7980\n",
      "Epoch 2/10\n",
      "219/219 [==============================] - 5s 22ms/step - loss: 0.0544 - accuracy: 0.7909 - val_loss: 0.0559 - val_accuracy: 0.7765\n",
      "Epoch 3/10\n",
      "219/219 [==============================] - 4s 19ms/step - loss: 0.0541 - accuracy: 0.7914 - val_loss: 0.0537 - val_accuracy: 0.7940\n",
      "Epoch 4/10\n",
      "219/219 [==============================] - 4s 18ms/step - loss: 0.0540 - accuracy: 0.7917 - val_loss: 0.0536 - val_accuracy: 0.7901\n",
      "Epoch 5/10\n",
      "219/219 [==============================] - 7s 31ms/step - loss: 0.0539 - accuracy: 0.7918 - val_loss: 0.0537 - val_accuracy: 0.7961\n",
      "Epoch 6/10\n",
      "219/219 [==============================] - 7s 30ms/step - loss: 0.0539 - accuracy: 0.7920 - val_loss: 0.0544 - val_accuracy: 0.7840\n",
      "Epoch 7/10\n",
      "219/219 [==============================] - 6s 29ms/step - loss: 0.0538 - accuracy: 0.7920 - val_loss: 0.0541 - val_accuracy: 0.7993\n",
      "Epoch 8/10\n",
      "219/219 [==============================] - 4s 20ms/step - loss: 0.0538 - accuracy: 0.7921 - val_loss: 0.0535 - val_accuracy: 0.7959\n",
      "Epoch 9/10\n",
      "219/219 [==============================] - 5s 22ms/step - loss: 0.0538 - accuracy: 0.7921 - val_loss: 0.0535 - val_accuracy: 0.7956\n",
      "Epoch 10/10\n",
      "219/219 [==============================] - 5s 22ms/step - loss: 0.0538 - accuracy: 0.7922 - val_loss: 0.0536 - val_accuracy: 0.7890\n"
     ]
    }
   ],
   "source": [
    "# 학습\n",
    "hist = model.fit(X_train, y_train, epochs=10, batch_size=64, validation_split=0.3)"
   ]
  },
  {
   "cell_type": "code",
   "execution_count": 8,
   "metadata": {},
   "outputs": [
    {
     "name": "stdout",
     "output_type": "stream",
     "text": [
      "1/1 [==============================] - 0s 133ms/step\n"
     ]
    }
   ],
   "source": [
    "# 테스트\n",
    "# 4번째 위치의 값만 1이고 나머지는 0이며, 길이가 10인 numpy 배열을 만들고 predict 함수를 사용하여 결과를 확인\n",
    "test_d = np.zeros((1, 10))\n",
    "test_d[0, 4] = 1\n",
    "o = model.predict(test_d)"
   ]
  },
  {
   "cell_type": "code",
   "execution_count": 11,
   "metadata": {},
   "outputs": [
    {
     "data": {
      "image/png": "[encoded data removed]",
      "text/plain": [
       "<Figure size 640x480 with 1 Axes>"
      ]
     },
     "metadata": {},
     "output_type": "display_data"
    }
   ],
   "source": [
    "# 출력된 결과의 크기는 1 * 28  28 * 1인데, 이를 ㅣ28 * 28로 바꾸고, imshow 함수를 사용하여 결과를 확인해 볼 수 있음\n",
    "im = o.reshape((28, 28))\n",
    "plt.imshow(im);"
   ]
  }
 ],
 "metadata": {
  "kernelspec": {
   "display_name": "Python 3",
   "language": "python",
   "name": "python3"
  },
  "language_info": {
   "codemirror_mode": {
    "name": "ipython",
    "version": 3
   },
   "file_extension": ".py",
   "mimetype": "text/x-python",
   "name": "python",
   "nbconvert_exporter": "python",
   "pygments_lexer": "ipython3",
   "version": "3.11.0"
  }
 },
 "nbformat": 4,
 "nbformat_minor": 2
}
