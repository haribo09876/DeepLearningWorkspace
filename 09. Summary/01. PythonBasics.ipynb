{
 "cells": [
  {
   "cell_type": "markdown",
   "metadata": {},
   "source": [
    "# 1. 파이썬의 기초"
   ]
  },
  {
   "cell_type": "markdown",
   "metadata": {},
   "source": [
    "- numpy 배열을 사용하여 1차원, 2차원, 다차원 행렬을 만들 수 있음\n",
    "- 3차원 배열은 2차원 배열을 높이 쌓아 올린 것으로 생각하면 이해가 쉬움\n",
    "- array 함수를 사용하여 리스트를 numpy배열로 바꾸어 생성할 수 있음\n",
    "- zeros, ones, random.rand 함수를 사용하여 0, 1, 랜덤값으로 된 특정 크기의 배열을 생성할 수 있음\n",
    "- numpy 배열은 reshape, expand_dims 함수를 사용하여 그 모양을 변경할 수 있음\n",
    "- 슬라이싱은 배열의 일부 인덱스만을 선택하는 기능. [start:end:step]의 구조를 가지며, [:end], [start:] 등의 방법을 통해 처음부터 특정 위치까지, 또는 특정 위치부터 끝까지 선택하는 것도 가능\n",
    "- numpy 배열로 저장된 데이터는 min, max, mean, std 등의 라이브러리 함수를 사용하여 간단한 통계를 손쉽게 구할 수 있음\n",
    "- 각 통계 함수는 축(axis)을 지정함으로, 특정 축에 대한 통계를 계산할 수 있음\n",
    "- argmax, argmin 함수는 각각 최댓값과 최솟값을 가지는 index를 반환하는 함수"
   ]
  }
 ],
 "metadata": {
  "language_info": {
   "name": "python"
  }
 },
 "nbformat": 4,
 "nbformat_minor": 2
}
