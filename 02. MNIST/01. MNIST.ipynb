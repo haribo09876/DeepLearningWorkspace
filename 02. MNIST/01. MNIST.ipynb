{
 "cells": [
  {
   "cell_type": "markdown",
   "metadata": {},
   "source": [
    "# 1. MNIST 데이터셋"
   ]
  },
  {
   "cell_type": "code",
   "execution_count": 1,
   "metadata": {},
   "outputs": [],
   "source": [
    "import pandas as pd\n",
    "import numpy as np\n",
    "data = pd.read_csv(\"mnist_train_small.csv\", header=None)\n",
    "data = np.array(data)"
   ]
  },
  {
   "cell_type": "code",
   "execution_count": 2,
   "metadata": {},
   "outputs": [
    {
     "name": "stdout",
     "output_type": "stream",
     "text": [
      "[[6 0 0 ... 0 0 0]\n",
      " [5 0 0 ... 0 0 0]\n",
      " [7 0 0 ... 0 0 0]\n",
      " ...\n",
      " [2 0 0 ... 0 0 0]\n",
      " [9 0 0 ... 0 0 0]\n",
      " [5 0 0 ... 0 0 0]]\n",
      "(20000, 785)\n"
     ]
    }
   ],
   "source": [
    "print(data)\n",
    "print(data.shape)"
   ]
  },
  {
   "cell_type": "code",
   "execution_count": 3,
   "metadata": {},
   "outputs": [
    {
     "name": "stdout",
     "output_type": "stream",
     "text": [
      "[  6   0   0   0   0   0   0   0   0   0   0   0   0   0   0   0   0   0\n",
      "   0   0   0   0   0   0   0   0   0   0   0   0   0   0   0   0   0   0\n",
      "   0   0   0   0   0   0   0   0   0   0   0   0   0   0   0   0   0   0\n",
      "   0   0   0   0   0   0   0   0   0   0   0   0   0   0   0   0   0   0\n",
      "   0   0   0   0   0   0   0   0   0   0   0   0   0   0   0   0   0   0\n",
      "   0   0   0   0   0   0   0   0   0   0   0   0   0   0   0   0   0   0\n",
      "   0   0   0   0   0   0   0   0   0   0   0   0   0   0   0  24  67  67\n",
      "  18   0   0   0   0   0   0   0   0   0   0   0   0   0   0   0   0   0\n",
      "   0   0   0   0   0   0   0 131 252 252  66   0   0   0   0   0   0   0\n",
      "   0   0   0   0   0   0   0   0   0   0   0   0   0   0   0   0 159 250\n",
      " 232  30  32   0   0   0   0   0   0   0   0   0   0   0   0   0   0   0\n",
      "   0   0   0   0   0   0   0  15 222 252 108   0   0   0   0   0   0   0\n",
      "   0   0   0   0   0   0   0   0   0   0   0   0   0   0   0   0   0 147\n",
      " 252 183   5   0   0   0   0   0   0   0  20  89  89  73   0   0   0   0\n",
      "   0   0   0   0   0   0   0   0  48 247 252 159   0   0   0   0   0   0\n",
      "   0  79 236 252 252 249 198  16   0   0   0   0   0   0   0   0   0  41\n",
      " 193 252 199  22   0   0   0   0   0  12 135 248 252 252 252 252 252 100\n",
      "   0   0   0   0   0   0   0   0   0 100 252 252  88   0   0   0   0   0\n",
      "  11 171 252 252 235 175 178 252 252 224   0   0   0   0   0   0   0   0\n",
      "  15 209 252 233  12   0   0   0   0  49 177 252 252  89  26   0   2 166\n",
      " 252 252   0   0   0   0   0   0   0   0  96 253 253  59   0   0   0   0\n",
      "  11 177 255 253  92   0   0   0   0 155 253 128   0   0   0   0   0   0\n",
      "   0   0 143 252 252  10   0   0   0  12 171 252 216 110  13   0   0   0\n",
      "   3 180 232  24   0   0   0   0   0   0   0   0 143 252 170   2   0   0\n",
      "   0 135 252 209  19   0   0   0   0   0  12 252 132   0   0   0   0   0\n",
      "   0   0   0   0 249 252  96   0   0   0  21 248 246  34   0   0   0   0\n",
      "   5  61 234 152   3   0   0   0   0   0   0   0   0   0 253 252  44   0\n",
      "   0   0 145 252 104   0   0   0  46 114 184 252 149  34   0   0   0   0\n",
      "   0   0   0   0   0   0 253 252  82   0   0  31 239 252  66  39  89 165\n",
      " 243 252 233 126   5   0   0   0   0   0   0   0   0   0   0   0 249 252\n",
      " 244 126  98 143 252 252 237 240 253 252 243 174  17   0   0   0   0   0\n",
      "   0   0   0   0   0   0   0   0 119 239 252 252 252 252 252 252 252 252\n",
      " 228 179  17   0   0   0   0   0   0   0   0   0   0   0   0   0   0   0\n",
      "   0  46  66  66  66  66  66  66  66  66  29   0   0   0   0   0   0   0\n",
      "   0   0   0   0   0   0   0   0   0   0   0   0   0   0   0   0   0   0\n",
      "   0   0   0   0   0   0   0   0   0   0   0   0   0   0   0   0   0   0\n",
      "   0   0   0   0   0   0   0   0   0   0   0   0   0   0   0   0   0   0\n",
      "   0   0   0   0   0   0   0   0   0   0   0   0   0   0   0   0   0   0\n",
      "   0   0   0   0   0   0   0   0   0   0   0   0   0   0   0   0   0   0\n",
      "   0   0   0   0   0   0   0   0   0   0   0   0   0   0   0   0   0   0\n",
      "   0   0   0   0   0   0   0   0   0   0   0   0   0   0   0   0   0   0\n",
      "   0   0   0   0   0   0   0   0   0   0   0   0   0   0   0   0   0   0\n",
      "   0   0   0   0   0   0   0   0   0   0   0   0   0   0   0   0   0   0\n",
      "   0   0   0   0   0   0   0   0   0   0   0]\n"
     ]
    }
   ],
   "source": [
    "# 데이터를 조금 더 자세히 살펴보기 위해 한 줄만 표시\n",
    "print(data[0, :])"
   ]
  },
  {
   "cell_type": "code",
   "execution_count": 4,
   "metadata": {},
   "outputs": [],
   "source": [
    "# 배열 슬라이싱을 사용하여 정답 정보와 이미지 데이터 분리\n",
    "# reshape 함수를 사용하여 길이 784인 1차원 배열을 28 * 28의 2차원 배열로 변환\n",
    "X_train = data[:, 1:]\n",
    "y_train = data[:, 0]\n",
    "X_train = X_train.reshape(-1, 28, 28)"
   ]
  },
  {
   "cell_type": "code",
   "execution_count": 5,
   "metadata": {},
   "outputs": [
    {
     "data": {
      "text/plain": [
       "(20000, 28, 28)"
      ]
     },
     "execution_count": 5,
     "metadata": {},
     "output_type": "execute_result"
    }
   ],
   "source": [
    "# 바뀐 배열의 모양 확인\n",
    "X_train.shape"
   ]
  },
  {
   "cell_type": "code",
   "execution_count": 6,
   "metadata": {},
   "outputs": [
    {
     "data": {
      "image/png": "[encoded data removed]",
      "text/plain": [
       "<Figure size 640x480 with 1 Axes>"
      ]
     },
     "metadata": {},
     "output_type": "display_data"
    }
   ],
   "source": [
    "# matplotlib을 사용하여 이미지 표시\n",
    "# MNIST 데이터셋의 첫 번째 데이터를 이미지로 표현\n",
    "import matplotlib.pyplot as plt\n",
    "plt.imshow(X_train[0, :, :]);"
   ]
  },
  {
   "cell_type": "code",
   "execution_count": 7,
   "metadata": {},
   "outputs": [
    {
     "name": "stdout",
     "output_type": "stream",
     "text": [
      "WARNING:tensorflow:From c:\\Python311\\Lib\\site-packages\\keras\\src\\losses.py:2976: The name tf.losses.sparse_softmax_cross_entropy is deprecated. Please use tf.compat.v1.losses.sparse_softmax_cross_entropy instead.\n",
      "\n"
     ]
    }
   ],
   "source": [
    "import keras as keras\n",
    "from keras.models import Sequential\n",
    "from keras import layers\n",
    "from keras import optimizers"
   ]
  },
  {
   "cell_type": "code",
   "execution_count": 8,
   "metadata": {},
   "outputs": [],
   "source": [
    "# X_train 변수는 현재 3차원(20,000*28*28)이므로 expand_dims 함수를 사용하여 이를 4차원(20,000*28*28*1)으로 수정\n",
    "# 타깃 정보는 to_categorical 함수를 사용하여 원-핫-인코딩 방식으로 변환\n",
    "X_train = np.expand_dims(X_train, -1)\n",
    "y_train = keras.utils.to_categorical(y_train)"
   ]
  },
  {
   "cell_type": "code",
   "execution_count": 9,
   "metadata": {},
   "outputs": [
    {
     "name": "stdout",
     "output_type": "stream",
     "text": [
      "WARNING:tensorflow:From c:\\Python311\\Lib\\site-packages\\keras\\src\\backend.py:873: The name tf.get_default_graph is deprecated. Please use tf.compat.v1.get_default_graph instead.\n",
      "\n",
      "WARNING:tensorflow:From c:\\Python311\\Lib\\site-packages\\keras\\src\\layers\\pooling\\max_pooling2d.py:161: The name tf.nn.max_pool is deprecated. Please use tf.nn.max_pool2d instead.\n",
      "\n"
     ]
    }
   ],
   "source": [
    "# 손 글씨를 인식하기 위한 네트워크 구조 구현\n",
    "model = Sequential()\n",
    "model.add(layers.Conv2D(filters=8, kernel_size=3, input_shape=(28, 28, 1), activation=\"relu\"))\n",
    "model.add(layers.Conv2D(filters=16, kernel_size=3, activation=\"relu\"))\n",
    "model.add(layers.MaxPooling2D(strides=2, padding=\"same\"))\n",
    "model.add(layers.Flatten())\n",
    "model.add(layers.Dense(units=10, activation=\"softmax\"))\n",
    "model.compile(loss=\"categorical_crossentropy\", optimizer=optimizers.RMSprop(learning_rate=0.001), metrics=[\"accuracy\"])"
   ]
  },
  {
   "cell_type": "markdown",
   "metadata": {},
   "source": [
    "- 이미지를 위한 2차원 합성곱층은 케라스에서 Conv2D로 기술\n",
    "- MaxPooling층은 MaxPooling2D, Flatten층은 Flatten으로 기술\n",
    "- 이 코드에는 합성곱층을 정의할 때 3~4개의 파라미터를 사용했는데, filters는 합성곱에 사용할 필터의 개수, kernel_size는 필터의 너비/높이, input_shape는 입력 데이터의 모양(크기), activation은 활성화 함수의 종류를 뜻함\n",
    "- MaxPooling층은 2개의 파라미터를 가지는데, pool_size와 strides는 각각 풀의 크기와 풀이 한번에 이동하는 크기를 뜻함\n",
    "- 완전 연결층을 추가하고 모델을 컴파일하는 과정은 완전 연결 신경망을 구성할 때와 동일"
   ]
  },
  {
   "cell_type": "code",
   "execution_count": 10,
   "metadata": {},
   "outputs": [
    {
     "name": "stdout",
     "output_type": "stream",
     "text": [
      "Epoch 1/10\n",
      "WARNING:tensorflow:From c:\\Python311\\Lib\\site-packages\\keras\\src\\utils\\tf_utils.py:492: The name tf.ragged.RaggedTensorValue is deprecated. Please use tf.compat.v1.ragged.RaggedTensorValue instead.\n",
      "\n",
      "WARNING:tensorflow:From c:\\Python311\\Lib\\site-packages\\keras\\src\\engine\\base_layer_utils.py:384: The name tf.executing_eagerly_outside_functions is deprecated. Please use tf.compat.v1.executing_eagerly_outside_functions instead.\n",
      "\n",
      "219/219 [==============================] - 3s 7ms/step - loss: 2.8553 - accuracy: 0.8312 - val_loss: 0.2551 - val_accuracy: 0.9352\n",
      "Epoch 2/10\n",
      "219/219 [==============================] - 1s 6ms/step - loss: 0.1706 - accuracy: 0.9552 - val_loss: 0.1657 - val_accuracy: 0.9548\n",
      "Epoch 3/10\n",
      "219/219 [==============================] - 1s 6ms/step - loss: 0.0885 - accuracy: 0.9754 - val_loss: 0.1367 - val_accuracy: 0.9648\n",
      "Epoch 4/10\n",
      "219/219 [==============================] - 1s 6ms/step - loss: 0.0592 - accuracy: 0.9819 - val_loss: 0.1304 - val_accuracy: 0.9707\n",
      "Epoch 5/10\n",
      "219/219 [==============================] - 1s 6ms/step - loss: 0.0378 - accuracy: 0.9886 - val_loss: 0.1595 - val_accuracy: 0.9680\n",
      "Epoch 6/10\n",
      "219/219 [==============================] - 1s 5ms/step - loss: 0.0274 - accuracy: 0.9911 - val_loss: 0.1286 - val_accuracy: 0.9728\n",
      "Epoch 7/10\n",
      "219/219 [==============================] - 1s 5ms/step - loss: 0.0192 - accuracy: 0.9939 - val_loss: 0.1557 - val_accuracy: 0.9712\n",
      "Epoch 8/10\n",
      "219/219 [==============================] - 1s 6ms/step - loss: 0.0144 - accuracy: 0.9956 - val_loss: 0.1729 - val_accuracy: 0.9727\n",
      "Epoch 9/10\n",
      "219/219 [==============================] - 1s 6ms/step - loss: 0.0114 - accuracy: 0.9961 - val_loss: 0.1587 - val_accuracy: 0.9748\n",
      "Epoch 10/10\n",
      "219/219 [==============================] - 1s 6ms/step - loss: 0.0083 - accuracy: 0.9969 - val_loss: 0.1587 - val_accuracy: 0.9753\n"
     ]
    },
    {
     "data": {
      "text/plain": [
       "<keras.src.callbacks.History at 0x1b7cd4b50d0>"
      ]
     },
     "execution_count": 10,
     "metadata": {},
     "output_type": "execute_result"
    }
   ],
   "source": [
    "# 구성된 모델을 사용하여 학습\n",
    "model.fit(X_train, y_train, epochs=10, batch_size=64, validation_split=0.3)"
   ]
  },
  {
   "cell_type": "code",
   "execution_count": 11,
   "metadata": {},
   "outputs": [],
   "source": [
    "# 테스트\n",
    "data = pd.read_csv(\"mnist_test.csv\")\n",
    "data = np.array(data)"
   ]
  },
  {
   "cell_type": "markdown",
   "metadata": {},
   "source": [
    "- 입력 데이터와 타깃 데이터로 분리하고, 입력 데이터는 reshape 함수를 사용하여 (샘플 수 * 이미지 높이 * 이미지 너비 * 1) 크기로 조정\n",
    "- 이와 같이 reshape 함수를 사용하여 한번에 조정할 수도 있음"
   ]
  },
  {
   "cell_type": "code",
   "execution_count": 12,
   "metadata": {},
   "outputs": [],
   "source": [
    "X_test = data[:, 1:]\n",
    "y_test = data[:, 0]\n",
    "X_test = X_test.reshape(-1, 28, 28, 1)"
   ]
  },
  {
   "cell_type": "code",
   "execution_count": 13,
   "metadata": {},
   "outputs": [
    {
     "name": "stdout",
     "output_type": "stream",
     "text": [
      "313/313 [==============================] - 1s 2ms/step\n"
     ]
    }
   ],
   "source": [
    "# 입력 데이터를 사용하여 결과를 예측하고, 원-핫-인코딩 방식의 결과를 argmax 함수를 사용하여 0에서 9까지의 숫자로 변환\n",
    "# 변수 o에는 각 입력 데이터에 대한 예측 결과가 저장\n",
    "o = model.predict(X_test)\n",
    "o = np.argmax(0, -1)"
   ]
  },
  {
   "cell_type": "code",
   "execution_count": 14,
   "metadata": {},
   "outputs": [
    {
     "data": {
      "text/plain": [
       "0.09800980098009801"
      ]
     },
     "execution_count": 14,
     "metadata": {},
     "output_type": "execute_result"
    }
   ],
   "source": [
    "# 테스트 결과의 정확도\n",
    "sum(y_test == 0) / len(y_test)"
   ]
  }
 ],
 "metadata": {
  "kernelspec": {
   "display_name": "Python 3",
   "language": "python",
   "name": "python3"
  },
  "language_info": {
   "codemirror_mode": {
    "name": "ipython",
    "version": 3
   },
   "file_extension": ".py",
   "mimetype": "text/x-python",
   "name": "python",
   "nbconvert_exporter": "python",
   "pygments_lexer": "ipython3",
   "version": "3.11.0"
  }
 },
 "nbformat": 4,
 "nbformat_minor": 2
}
