{
 "cells": [
  {
   "cell_type": "markdown",
   "metadata": {},
   "source": [
    "# 2. Time Series Data Recognition Practice (시계열 데이터 인식 실습)"
   ]
  },
  {
   "cell_type": "code",
   "execution_count": 7,
   "metadata": {},
   "outputs": [],
   "source": [
    "import numpy as np\n",
    "import shutil\n",
    "folderpath= './svc2004'\n",
    "\n",
    "# 0부터 1,599까지의 값을 가지는 배열(rand_number)을 만들고 순서를 섞음\n",
    "rand_number = np.array(range(1600))\n",
    "np.random.shuffle(rand_number)\n",
    "\n",
    "n_train = 1200\n",
    "n_test = 400\n",
    "\n",
    "# 각 서명의 이름이 rand_number의 번호가 되도록 이름을 바꾸어 저장\n",
    "cnt = 0\n",
    "\n",
    "for u_id in range(1, 41):\n",
    "  for s_id in range(1, 41):\n",
    "    filepath_from = f'{folderpath}/U{u_id}S{s_id}.TXT'\n",
    "    # 파일의 번호에 따라 학습용/테스트용 데이터로 나눔\n",
    "    # 학습용 데이터인 경우\n",
    "    if rand_number[cnt] < n_train:\n",
    "      filepath_to = f'{folderpath}/train/{rand_number[cnt]}.TXT'\n",
    "    # 테스트 데이터인 경우\n",
    "    else:\n",
    "      filepath_to = f'{folderpath}/test/{rand_number[cnt]}.TXT'\n",
    "    shutil.move(filepath_from, filepath_to)\n",
    "    cnt = cnt + 1"
   ]
  },
  {
   "cell_type": "code",
   "execution_count": null,
   "metadata": {},
   "outputs": [],
   "source": []
  }
 ],
 "metadata": {
  "kernelspec": {
   "display_name": "Python 3",
   "language": "python",
   "name": "python3"
  },
  "language_info": {
   "codemirror_mode": {
    "name": "ipython",
    "version": 3
   },
   "file_extension": ".py",
   "mimetype": "text/x-python",
   "name": "python",
   "nbconvert_exporter": "python",
   "pygments_lexer": "ipython3",
   "version": "3.11.0"
  }
 },
 "nbformat": 4,
 "nbformat_minor": 2
}
