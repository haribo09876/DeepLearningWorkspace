{
 "cells": [
  {
   "cell_type": "markdown",
   "metadata": {},
   "source": [
    "# 2. Time Series Data Recognition Practice (시계열 데이터 인식 실습)"
   ]
  },
  {
   "cell_type": "code",
   "execution_count": 22,
   "metadata": {},
   "outputs": [],
   "source": [
    "import numpy as np\n",
    "import shutil\n",
    "folderpath= './svc2004'\n",
    "\n",
    "# 0부터 1,599까지의 값을 가지는 배열(rand_number)을 만들고 순서를 섞음\n",
    "rand_number = np.array(range(1600))\n",
    "np.random.shuffle(rand_number)\n",
    "\n",
    "n_train = 1200\n",
    "n_test = 400\n",
    "\n",
    "# 각 서명의 이름이 rand_number의 번호가 되도록 이름을 바꾸어 저장\n",
    "cnt = 0\n",
    "\n",
    "for u_id in range(1, 41):\n",
    "  for s_id in range(1, 41):\n",
    "    filepath_from = f'{folderpath}/U{u_id}S{s_id}.TXT'\n",
    "    # 파일의 번호에 따라 학습용/테스트용 데이터로 나눔\n",
    "    # 학습용 데이터인 경우\n",
    "    if rand_number[cnt] < n_train:\n",
    "      filepath_to = f'{folderpath}/train/{rand_number[cnt]}.TXT'\n",
    "    # 테스트 데이터인 경우\n",
    "    else:\n",
    "      filepath_to = f'{folderpath}/test/{rand_number[cnt]}.TXT'\n",
    "    shutil.move(filepath_from, filepath_to)\n",
    "    cnt = cnt + 1"
   ]
  },
  {
   "cell_type": "code",
   "execution_count": 23,
   "metadata": {},
   "outputs": [],
   "source": [
    "# 새롭게 바뀐 서명 데이터의 이름에는 위조 서명여부에 관한 정보가 포함되어 있지 않으므로, 이 정보를 잃어버리지 않기 위해, 각 서명의 진/위조 서명 여부를 numpy 배열에 저장한 후, csv 파일로 저장\n",
    "# 각 서명의 진/위조 서명 여부를 저장\n",
    "b_genuine = np.zeros((1600, 2))\n",
    "b_genuine[:, 0] = range(1600)\n",
    "cnt = 0\n",
    "for u_id in range(1, 41):\n",
    "  for s_id in range(1, 41):\n",
    "    if s_id < 21:\n",
    "      # 진 서명\n",
    "      b_genuine[rand_number[cnt], 1] = 1\n",
    "    else:\n",
    "      # 위조 서명\n",
    "      b_genuine[rand_number[cnt], 1] = 0\n",
    "    cnt = cnt + 1"
   ]
  },
  {
   "cell_type": "code",
   "execution_count": 24,
   "metadata": {},
   "outputs": [],
   "source": [
    "# csv 파일로 저장하기 위해서는 pandas 라이브러리를 사용하여 DataFrame 형식으로 변환\n",
    "import pandas as pd\n",
    "# 진/위조 서명 여부를 csv 파일로 저장\n",
    "df_genuine = pd.DataFrame(b_genuine)\n",
    "df_genuine.columns = [\"ID\", \"bGenuine\"]\n",
    "df_genuine = df_genuine.astype(\"int32\")\n",
    "df_genuine.to_csv(f\"{folderpath}/train_info.csv\", index=False)"
   ]
  },
  {
   "cell_type": "code",
   "execution_count": 25,
   "metadata": {},
   "outputs": [],
   "source": [
    "# 데이터 읽기 및 전처리\n",
    "import os\n",
    "\n",
    "# get_max_len 함수\n",
    "# 파라미터로 학습 및 테스트 폴더의 모든 서명 데이터를 읽고, 전체 서명의 길이 중 가장 긴 길이의 값을 반환\n",
    "def get_max_len(folderpath_train, folderpath_test):\n",
    "  n_maxt_len = 0\n",
    "  for filename in os.listdir(folderpath_train):\n",
    "    filepath = f'{folderpath_train}/{filename}'\n",
    "    d, tmp = load_a_sig(filepath)\n",
    "    if d.shape[0] > n_max_len:\n",
    "      n_max_len = d.shape[0]\n",
    "\n",
    "  for filename in os.listdir(folderpath_test):\n",
    "    filepath = f'{folderpath_test}/{filename}'\n",
    "    d, tmp = load_a_sig(filepath)\n",
    "    if d.shape[0] > n_max_len:\n",
    "      n_max_len = d.shape[0]\n",
    "\n",
    "  return n_max_len"
   ]
  },
  {
   "cell_type": "code",
   "execution_count": 26,
   "metadata": {},
   "outputs": [],
   "source": [
    "# load_data 함수\n",
    "# 파라미터로 주어진 폴더에 들어 있는 서명 파일 전체를 읽고, n_files * n_max_len * 2 크기의 numpy 배열로 만들어 반환\n",
    "# 파라미터 n_max_len은 전체 서명 데이터들 중 가장 긴 서명의 길이를 의미\n",
    "# 데이터와 함께 반환하는 len_sign는 각 서명의 실제 길이를 의미\n",
    "def load_data(folderpath, n_max_len, sig_ids):\n",
    "  # 폴더에 포함된 파일들의 리스트를 가져옴\n",
    "  filelist = os.listdir(folderpath)\n",
    "  # 파일의 갯수를 가져와 n_files 변수에 저장\n",
    "  n_files = len(filelist)\n",
    "  # n_files * n_max_len * 2 크기의 numpy 배열을 만듦\n",
    "  d = np.zeros((n_files, n_max_len, 2))\n",
    "  # n_files * 1 크기의 배열을 만듦. 이 변수에는 각 서명의 실제 길이를 저장\n",
    "  len_sign = np.zeros(n_files)\n",
    "\n",
    "  for i in sig_ids:\n",
    "    # 파일 이름을 지정\n",
    "    filepath = f'{folderpath}/{i}.TXT'\n",
    "    # 서명 데이터를 읽어서 임시변수에 저장\n",
    "    d_tmp, len_sign[i - sig_ids[0]] = load_a_sig(filepath)\n",
    "    # 준비한 배열(d)에 저장\n",
    "    d[i - sig_ids[0], :d_tmp.shape[0], :] = d_tmp\n",
    "  return d, len_sign"
   ]
  },
  {
   "cell_type": "code",
   "execution_count": 27,
   "metadata": {},
   "outputs": [],
   "source": [
    "# load_a_sig 함수\n",
    "# 파라미터로 주어진 서명 파일을 읽고, nPoint * 2 크기의 numpy 배열로 만들어 반환\n",
    "def load_a_sig(filepath):\n",
    "  f = open(filepath, \"rt\")\n",
    "  # 데이터의 첫 번째 줄을 읽어, nPoint 변수에 저장\n",
    "  nPoints = int(f.readline())\n",
    "  d = np.zeros((nPoints, 2))\n",
    "  # 각 포인트의 갯수만큼 반복하면서 각각의 줄을 읽고, X, y 좌표를 분리하여 저장\n",
    "  for i in range(nPoints):\n",
    "    line = f.readline()\n",
    "    toks = line.split(\" \")\n",
    "    d[i, :] = [int(toks[0]), int(toks[1])]\n",
    "  f.close()\n",
    "  return d, nPoints"
   ]
  },
  {
   "cell_type": "code",
   "execution_count": 28,
   "metadata": {},
   "outputs": [
    {
     "ename": "UnboundLocalError",
     "evalue": "cannot access local variable 'n_max_len' where it is not associated with a value",
     "output_type": "error",
     "traceback": [
      "\u001b[1;31m---------------------------------------------------------------------------\u001b[0m",
      "\u001b[1;31mUnboundLocalError\u001b[0m                         Traceback (most recent call last)",
      "Cell \u001b[1;32mIn[28], line 3\u001b[0m\n\u001b[0;32m      1\u001b[0m \u001b[38;5;66;03m# 위 함수를 사용하여 데이터를 읽음\u001b[39;00m\n\u001b[0;32m      2\u001b[0m \u001b[38;5;66;03m# 각 데이터의 길이를 체크하고 최대 길이 확인\u001b[39;00m\n\u001b[1;32m----> 3\u001b[0m n_max_len \u001b[38;5;241m=\u001b[39m \u001b[43mget_max_len\u001b[49m\u001b[43m(\u001b[49m\u001b[38;5;124;43mf\u001b[39;49m\u001b[38;5;124;43m'\u001b[39;49m\u001b[38;5;132;43;01m{\u001b[39;49;00m\u001b[43mfolderpath\u001b[49m\u001b[38;5;132;43;01m}\u001b[39;49;00m\u001b[38;5;124;43m/train\u001b[39;49m\u001b[38;5;124;43m'\u001b[39;49m\u001b[43m,\u001b[49m\u001b[43m \u001b[49m\u001b[38;5;124;43mf\u001b[39;49m\u001b[38;5;124;43m'\u001b[39;49m\u001b[38;5;132;43;01m{\u001b[39;49;00m\u001b[43mfolderpath\u001b[49m\u001b[38;5;132;43;01m}\u001b[39;49;00m\u001b[38;5;124;43m/test\u001b[39;49m\u001b[38;5;124;43m'\u001b[39;49m\u001b[43m)\u001b[49m\n\u001b[0;32m      4\u001b[0m \u001b[38;5;66;03m# 학습용 데이터 load\u001b[39;00m\n\u001b[0;32m      5\u001b[0m X_train, X_train_len \u001b[38;5;241m=\u001b[39m load_data(\u001b[38;5;124mf\u001b[39m\u001b[38;5;124m'\u001b[39m\u001b[38;5;132;01m{\u001b[39;00mfolderpath\u001b[38;5;132;01m}\u001b[39;00m\u001b[38;5;124m/train\u001b[39m\u001b[38;5;124m'\u001b[39m, n_max_len, \u001b[38;5;28mrange\u001b[39m(n_train))\n",
      "Cell \u001b[1;32mIn[25], line 11\u001b[0m, in \u001b[0;36mget_max_len\u001b[1;34m(folderpath_train, folderpath_test)\u001b[0m\n\u001b[0;32m      9\u001b[0m   filepath \u001b[38;5;241m=\u001b[39m \u001b[38;5;124mf\u001b[39m\u001b[38;5;124m'\u001b[39m\u001b[38;5;132;01m{\u001b[39;00mfolderpath_train\u001b[38;5;132;01m}\u001b[39;00m\u001b[38;5;124m/\u001b[39m\u001b[38;5;132;01m{\u001b[39;00mfilename\u001b[38;5;132;01m}\u001b[39;00m\u001b[38;5;124m'\u001b[39m\n\u001b[0;32m     10\u001b[0m   d, tmp \u001b[38;5;241m=\u001b[39m load_a_sig(filepath)\n\u001b[1;32m---> 11\u001b[0m   \u001b[38;5;28;01mif\u001b[39;00m d\u001b[38;5;241m.\u001b[39mshape[\u001b[38;5;241m0\u001b[39m] \u001b[38;5;241m>\u001b[39m \u001b[43mn_max_len\u001b[49m:\n\u001b[0;32m     12\u001b[0m     n_max_len \u001b[38;5;241m=\u001b[39m d\u001b[38;5;241m.\u001b[39mshape[\u001b[38;5;241m0\u001b[39m]\n\u001b[0;32m     14\u001b[0m \u001b[38;5;28;01mfor\u001b[39;00m filename \u001b[38;5;129;01min\u001b[39;00m os\u001b[38;5;241m.\u001b[39mlistdir(folderpath_test):\n",
      "\u001b[1;31mUnboundLocalError\u001b[0m: cannot access local variable 'n_max_len' where it is not associated with a value"
     ]
    }
   ],
   "source": [
    "# 위 함수를 사용하여 데이터를 읽음\n",
    "# 각 데이터의 길이를 체크하고 최대 길이 확인\n",
    "n_max_len = get_max_len(f'{folderpath}/train', f'{folderpath}/test')\n",
    "# 학습용 데이터 load\n",
    "X_train, X_train_len = load_data(f'{folderpath}/train', n_max_len, range(n_train))\n",
    "# 테스트용 데이터 load\n",
    "X_test, X_test_len = load_data(f'{folderpath}/test', n_max_len, range(n_train, 1600))"
   ]
  }
 ],
 "metadata": {
  "kernelspec": {
   "display_name": "Python 3",
   "language": "python",
   "name": "python3"
  },
  "language_info": {
   "codemirror_mode": {
    "name": "ipython",
    "version": 3
   },
   "file_extension": ".py",
   "mimetype": "text/x-python",
   "name": "python",
   "nbconvert_exporter": "python",
   "pygments_lexer": "ipython3",
   "version": "3.11.0"
  }
 },
 "nbformat": 4,
 "nbformat_minor": 2
}
