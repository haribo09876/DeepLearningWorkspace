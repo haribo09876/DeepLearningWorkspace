{
 "cells": [
  {
   "cell_type": "markdown",
   "metadata": {},
   "source": [
    "# 1. Optimization of deep learning parameters (딥러닝 파라미터의 최적화)\n",
    "- 완전 연결층, 합성곱 신경망, LSTM층을 설계하고 구현하기 위해서는 다양한 파라미터의 값을 지정해야 함\n",
    "1) 데이터 준비\n",
    "2) 딥너링 모델 생성\n",
    "3) 학습\n",
    "4) 검증"
   ]
  },
  {
   "cell_type": "code",
   "execution_count": 2,
   "metadata": {},
   "outputs": [],
   "source": [
    "# 데이터 준비\n",
    "import pandas as pd\n",
    "import numpy as np\n",
    "import matplotlib.pyplot as plt\n",
    "from tensorflow.keras.utils import to_categorical\n",
    "from tensorflow.keras import Sequential\n",
    "from tensorflow.keras import layers\n",
    "from tensorflow.keras import optimizers\n",
    "\n",
    "data_no = pd.read_csv(\"ptbdb_normal.csv\")\n",
    "data_ab = pd.read_csv(\"ptbdb_abnormal.csv\")\n",
    "data_no = np.array(data_no)\n",
    "data_ab = np.array(data_ab)\n",
    "\n",
    "nTrain = 3000\n",
    "nTest = 1000\n",
    "X_train = np.concatenate((data_no[:nTrain, :], data_ab[:nTrain, :]), 0)\n",
    "y_train = np.concatenate((np.zeros(nTrain, ), np.ones(nTrain, )), 0)\n",
    "X_test = np.concatenate((data_no[nTrain:nTrain+nTest, :], data_ab[nTrain:nTrain+nTest, :]), 0)\n",
    "y_test = np.concatenate((np.zeros(nTest, ), np.ones(nTest, )), 0)\n",
    "\n",
    "y_test = to_categorical(y_test)\n",
    "y_train = to_categorical(y_train)\n",
    "X_train = np.expand_dims(X_train, -1)\n",
    "X_test = np.expand_dims(X_test, -1)"
   ]
  },
  {
   "cell_type": "code",
   "execution_count": 3,
   "metadata": {},
   "outputs": [
    {
     "name": "stdout",
     "output_type": "stream",
     "text": [
      "WARNING:tensorflow:From c:\\Python311\\Lib\\site-packages\\keras\\src\\backend.py:873: The name tf.get_default_graph is deprecated. Please use tf.compat.v1.get_default_graph instead.\n",
      "\n",
      "WARNING:tensorflow:From c:\\Python311\\Lib\\site-packages\\keras\\src\\backend.py:6642: The name tf.nn.max_pool is deprecated. Please use tf.nn.max_pool2d instead.\n",
      "\n"
     ]
    }
   ],
   "source": [
    "# 딥러닝 모델 생성\n",
    "model = Sequential()\n",
    "model.add(layers.Conv1D(filters=16, kernel_size=3, input_shape=(X_train.shape[1], 1), activation=\"relu\"))\n",
    "model.add(layers.Conv1D(filters=16, kernel_size=3, activation=\"relu\"))\n",
    "model.add(layers.MaxPooling1D(pool_size=3, strides=2))\n",
    "model.add(layers.Conv1D(filters=32, kernel_size=3, input_shape=(X_train.shape[1], 1), activation=\"relu\"))\n",
    "model.add(layers.Conv1D(filters=32, kernel_size=3, activation=\"relu\"))\n",
    "model.add(layers.MaxPooling1D(pool_size=3, strides=2))\n",
    "model.add(layers.LSTM(16))\n",
    "model.add(layers.Dense(units=2, activation=\"softmax\"))\n",
    "model.compile(loss=\"categorical_crossentropy\", optimizer=optimizers.Adam(learning_rate=0.01), metrics=[\"accuracy\"])"
   ]
  },
  {
   "cell_type": "code",
   "execution_count": 4,
   "metadata": {},
   "outputs": [
    {
     "name": "stdout",
     "output_type": "stream",
     "text": [
      "Epoch 1/50\n",
      "WARNING:tensorflow:From c:\\Python311\\Lib\\site-packages\\keras\\src\\utils\\tf_utils.py:492: The name tf.ragged.RaggedTensorValue is deprecated. Please use tf.compat.v1.ragged.RaggedTensorValue instead.\n",
      "\n",
      "WARNING:tensorflow:From c:\\Python311\\Lib\\site-packages\\keras\\src\\engine\\base_layer_utils.py:384: The name tf.executing_eagerly_outside_functions is deprecated. Please use tf.compat.v1.executing_eagerly_outside_functions instead.\n",
      "\n",
      "38/38 [==============================] - 3s 29ms/step - loss: 0.6273 - accuracy: 0.6523 - val_loss: 0.7719 - val_accuracy: 0.5242\n",
      "Epoch 2/50\n",
      "38/38 [==============================] - 1s 18ms/step - loss: 0.5866 - accuracy: 0.6998 - val_loss: 0.8211 - val_accuracy: 0.5158\n",
      "Epoch 3/50\n",
      "38/38 [==============================] - 1s 21ms/step - loss: 0.5679 - accuracy: 0.7192 - val_loss: 0.9499 - val_accuracy: 0.3358\n",
      "Epoch 4/50\n",
      "38/38 [==============================] - 1s 22ms/step - loss: 0.5613 - accuracy: 0.7146 - val_loss: 0.7388 - val_accuracy: 0.5067\n",
      "Epoch 5/50\n",
      "38/38 [==============================] - 1s 18ms/step - loss: 0.5534 - accuracy: 0.7240 - val_loss: 0.9486 - val_accuracy: 0.3750\n",
      "Epoch 6/50\n",
      "38/38 [==============================] - 1s 18ms/step - loss: 0.5575 - accuracy: 0.7267 - val_loss: 0.8570 - val_accuracy: 0.4900\n",
      "Epoch 7/50\n",
      "38/38 [==============================] - 1s 18ms/step - loss: 0.5533 - accuracy: 0.7217 - val_loss: 0.7256 - val_accuracy: 0.5892\n",
      "Epoch 8/50\n",
      "38/38 [==============================] - 1s 20ms/step - loss: 0.5556 - accuracy: 0.7267 - val_loss: 0.8297 - val_accuracy: 0.5217\n",
      "Epoch 9/50\n",
      "38/38 [==============================] - 1s 21ms/step - loss: 0.5461 - accuracy: 0.7235 - val_loss: 0.8224 - val_accuracy: 0.4417\n",
      "Epoch 10/50\n",
      "38/38 [==============================] - 1s 19ms/step - loss: 0.6178 - accuracy: 0.6948 - val_loss: 0.8324 - val_accuracy: 0.5500\n",
      "Epoch 11/50\n",
      "38/38 [==============================] - 1s 21ms/step - loss: 0.5545 - accuracy: 0.7323 - val_loss: 0.8192 - val_accuracy: 0.4675\n",
      "Epoch 12/50\n",
      "38/38 [==============================] - 1s 20ms/step - loss: 0.5243 - accuracy: 0.7485 - val_loss: 0.6553 - val_accuracy: 0.5358\n",
      "Epoch 13/50\n",
      "38/38 [==============================] - 1s 20ms/step - loss: 0.4971 - accuracy: 0.7727 - val_loss: 0.6231 - val_accuracy: 0.5850\n",
      "Epoch 14/50\n",
      "38/38 [==============================] - 1s 20ms/step - loss: 0.5300 - accuracy: 0.7542 - val_loss: 0.9161 - val_accuracy: 0.4375\n",
      "Epoch 15/50\n",
      "38/38 [==============================] - 1s 21ms/step - loss: 0.4786 - accuracy: 0.7908 - val_loss: 0.8002 - val_accuracy: 0.5533\n",
      "Epoch 16/50\n",
      "38/38 [==============================] - 1s 20ms/step - loss: 0.4591 - accuracy: 0.8021 - val_loss: 1.2191 - val_accuracy: 0.4325\n",
      "Epoch 17/50\n",
      "38/38 [==============================] - 1s 21ms/step - loss: 0.4299 - accuracy: 0.8215 - val_loss: 0.6386 - val_accuracy: 0.6942\n",
      "Epoch 18/50\n",
      "38/38 [==============================] - 1s 19ms/step - loss: 0.3958 - accuracy: 0.8360 - val_loss: 0.5963 - val_accuracy: 0.6808\n",
      "Epoch 19/50\n",
      "38/38 [==============================] - 1s 19ms/step - loss: 0.3700 - accuracy: 0.8490 - val_loss: 0.6556 - val_accuracy: 0.6667\n",
      "Epoch 20/50\n",
      "38/38 [==============================] - 1s 21ms/step - loss: 0.3519 - accuracy: 0.8550 - val_loss: 0.4269 - val_accuracy: 0.7967\n",
      "Epoch 21/50\n",
      "38/38 [==============================] - 1s 20ms/step - loss: 0.3087 - accuracy: 0.8810 - val_loss: 0.3475 - val_accuracy: 0.8558\n",
      "Epoch 22/50\n",
      "38/38 [==============================] - 1s 20ms/step - loss: 0.2824 - accuracy: 0.8896 - val_loss: 0.5469 - val_accuracy: 0.7692\n",
      "Epoch 23/50\n",
      "38/38 [==============================] - 1s 19ms/step - loss: 0.2785 - accuracy: 0.8902 - val_loss: 0.4052 - val_accuracy: 0.8058\n",
      "Epoch 24/50\n",
      "38/38 [==============================] - 1s 23ms/step - loss: 0.3048 - accuracy: 0.8844 - val_loss: 0.3708 - val_accuracy: 0.8400\n",
      "Epoch 25/50\n",
      "38/38 [==============================] - 1s 20ms/step - loss: 0.2781 - accuracy: 0.8906 - val_loss: 0.4231 - val_accuracy: 0.8092\n",
      "Epoch 26/50\n",
      "38/38 [==============================] - 1s 19ms/step - loss: 0.2367 - accuracy: 0.9098 - val_loss: 0.3106 - val_accuracy: 0.8783\n",
      "Epoch 27/50\n",
      "38/38 [==============================] - 1s 20ms/step - loss: 0.2466 - accuracy: 0.9048 - val_loss: 0.4253 - val_accuracy: 0.8392\n",
      "Epoch 28/50\n",
      "38/38 [==============================] - 1s 20ms/step - loss: 0.2456 - accuracy: 0.9069 - val_loss: 0.4055 - val_accuracy: 0.8233\n",
      "Epoch 29/50\n",
      "38/38 [==============================] - 1s 20ms/step - loss: 0.2082 - accuracy: 0.9258 - val_loss: 0.3290 - val_accuracy: 0.8450\n",
      "Epoch 30/50\n",
      "38/38 [==============================] - 1s 20ms/step - loss: 0.1942 - accuracy: 0.9300 - val_loss: 0.3630 - val_accuracy: 0.8375\n",
      "Epoch 31/50\n",
      "38/38 [==============================] - 1s 22ms/step - loss: 0.1793 - accuracy: 0.9323 - val_loss: 0.2940 - val_accuracy: 0.8575\n",
      "Epoch 32/50\n",
      "38/38 [==============================] - 1s 19ms/step - loss: 0.1755 - accuracy: 0.9350 - val_loss: 0.2293 - val_accuracy: 0.8992\n",
      "Epoch 33/50\n",
      "38/38 [==============================] - 1s 20ms/step - loss: 0.1804 - accuracy: 0.9304 - val_loss: 0.2260 - val_accuracy: 0.9092\n",
      "Epoch 34/50\n",
      "38/38 [==============================] - 1s 21ms/step - loss: 0.1582 - accuracy: 0.9444 - val_loss: 0.2327 - val_accuracy: 0.8942\n",
      "Epoch 35/50\n",
      "38/38 [==============================] - 1s 19ms/step - loss: 0.2016 - accuracy: 0.9279 - val_loss: 0.4608 - val_accuracy: 0.8133\n",
      "Epoch 36/50\n",
      "38/38 [==============================] - 1s 19ms/step - loss: 0.1805 - accuracy: 0.9367 - val_loss: 0.2560 - val_accuracy: 0.8800\n",
      "Epoch 37/50\n",
      "38/38 [==============================] - 1s 19ms/step - loss: 0.1573 - accuracy: 0.9413 - val_loss: 0.1641 - val_accuracy: 0.9225\n",
      "Epoch 38/50\n",
      "38/38 [==============================] - 1s 22ms/step - loss: 0.1356 - accuracy: 0.9523 - val_loss: 0.2078 - val_accuracy: 0.9083\n",
      "Epoch 39/50\n",
      "38/38 [==============================] - 1s 18ms/step - loss: 0.1167 - accuracy: 0.9592 - val_loss: 0.2030 - val_accuracy: 0.9117\n",
      "Epoch 40/50\n",
      "38/38 [==============================] - 1s 19ms/step - loss: 0.1277 - accuracy: 0.9527 - val_loss: 0.3119 - val_accuracy: 0.8642\n",
      "Epoch 41/50\n",
      "38/38 [==============================] - 1s 19ms/step - loss: 0.1469 - accuracy: 0.9483 - val_loss: 0.2204 - val_accuracy: 0.9075\n",
      "Epoch 42/50\n",
      "38/38 [==============================] - 1s 20ms/step - loss: 0.1383 - accuracy: 0.9483 - val_loss: 0.1423 - val_accuracy: 0.9417\n",
      "Epoch 43/50\n",
      "38/38 [==============================] - 1s 19ms/step - loss: 0.1370 - accuracy: 0.9502 - val_loss: 0.2040 - val_accuracy: 0.9100\n",
      "Epoch 44/50\n",
      "38/38 [==============================] - 1s 23ms/step - loss: 0.1123 - accuracy: 0.9600 - val_loss: 0.2106 - val_accuracy: 0.9125\n",
      "Epoch 45/50\n",
      "38/38 [==============================] - 1s 20ms/step - loss: 0.1120 - accuracy: 0.9600 - val_loss: 0.2400 - val_accuracy: 0.8992\n",
      "Epoch 46/50\n",
      "38/38 [==============================] - 1s 20ms/step - loss: 0.1048 - accuracy: 0.9635 - val_loss: 0.2265 - val_accuracy: 0.9067\n",
      "Epoch 47/50\n",
      "38/38 [==============================] - 1s 19ms/step - loss: 0.0898 - accuracy: 0.9683 - val_loss: 0.0742 - val_accuracy: 0.9700\n",
      "Epoch 48/50\n",
      "38/38 [==============================] - 1s 20ms/step - loss: 0.1015 - accuracy: 0.9654 - val_loss: 0.1745 - val_accuracy: 0.9292\n",
      "Epoch 49/50\n",
      "38/38 [==============================] - 1s 21ms/step - loss: 0.0934 - accuracy: 0.9663 - val_loss: 0.1825 - val_accuracy: 0.9325\n",
      "Epoch 50/50\n",
      "38/38 [==============================] - 1s 20ms/step - loss: 0.1151 - accuracy: 0.9602 - val_loss: 0.2318 - val_accuracy: 0.9100\n"
     ]
    },
    {
     "data": {
      "text/plain": [
       "<keras.src.callbacks.History at 0x2dd1c3ae3d0>"
      ]
     },
     "execution_count": 4,
     "metadata": {},
     "output_type": "execute_result"
    }
   ],
   "source": [
    "# 학습\n",
    "model.fit(X_train, y_train, epochs=50, batch_size=128, validation_split=0.2)"
   ]
  },
  {
   "cell_type": "code",
   "execution_count": 5,
   "metadata": {},
   "outputs": [
    {
     "name": "stdout",
     "output_type": "stream",
     "text": [
      "63/63 [==============================] - 1s 4ms/step\n"
     ]
    },
    {
     "data": {
      "text/plain": [
       "0.9434999999999515"
      ]
     },
     "execution_count": 5,
     "metadata": {},
     "output_type": "execute_result"
    }
   ],
   "source": [
    "# 검증\n",
    "o = model.predict(X_test)\n",
    "o = np.argmax(o, 1)\n",
    "y_test = np.argmax(y_test, 1)\n",
    "sum(np.equal(y_test, o) / len(y_test))"
   ]
  }
 ],
 "metadata": {
  "kernelspec": {
   "display_name": "Python 3",
   "language": "python",
   "name": "python3"
  },
  "language_info": {
   "codemirror_mode": {
    "name": "ipython",
    "version": 3
   },
   "file_extension": ".py",
   "mimetype": "text/x-python",
   "name": "python",
   "nbconvert_exporter": "python",
   "pygments_lexer": "ipython3",
   "version": "3.11.0"
  }
 },
 "nbformat": 4,
 "nbformat_minor": 2
}
